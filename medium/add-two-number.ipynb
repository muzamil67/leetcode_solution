{
 "cells": [
  {
   "cell_type": "code",
   "execution_count": 2,
   "id": "23643db5",
   "metadata": {},
   "outputs": [],
   "source": [
    "   def addTwoNumbers(self, l1: Optional[ListNode], l2: Optional[ListNode]) -> Optional[ListNode]:\n",
    "       \n",
    "            dummy_head = ListNode(0)\n",
    "            current = dummy_head\n",
    "            carry = 0\n",
    "            while l1 or l2 or carry:\n",
    "                val1 = l1.val if l1 else 0\n",
    "                val2 = l2.val if l2 else 0\n",
    "                sum_ = val1 + val2 + carry\n",
    "                carry = sum_ // 10\n",
    "                current.next = ListNode(sum_ % 10)\n",
    "                current = current.next\n",
    "                l1 = l1.next if l1 else None\n",
    "                l2 = l2.next if l2 else None\n",
    "            return dummy_head.next\n",
    "        "
   ]
  },
  {
   "cell_type": "markdown",
   "id": "e73c2a6e",
   "metadata": {},
   "source": [
    "# explanation"
   ]
  },
  {
   "cell_type": "markdown",
   "id": "4102a9e9",
   "metadata": {},
   "source": [
    "<!-- Here's how the function works:\n",
    "\n",
    "   1) We create a \"dummy head\" node and a \"current\" node that initially point to the dummy head. The dummy head is useful because it allows us to avoid having to check for a None head node when adding the first two values.\n",
    "\n",
    "    2) We initialize the carry variable to 0.\n",
    "\n",
    "    3) We loop while either l1, l2, or carry is not None. This ensures that we add all of the corresponding digits in the two linked lists and any leftover carry.\n",
    "\n",
    "    4) Inside the loop, we get the values of the current nodes in l1 and l2, or 0 if one or both are None.\n",
    "\n",
    "    5) We calculate the sum of the values plus the carry from the previous addition.\n",
    "\n",
    "    6) We update the carry variable to the integer division of the sum by 10, which gives us the carry for the next addition.\n",
    "\n",
    "    7) We create a new ListNode with the value of the sum modulo 10, which gives us the \"ones\" digit of the sum.\n",
    "\n",
    "    8) We set the next node of the current node to the new ListNode, and update the current node to the new ListNode.\n",
    "\n",
    "    9) We move l1 and l2 to their next nodes, or None if they are already None.\n",
    "\n",
    "    10) Once the loop is finished, we return the next node of the dummy head, which is the head of the resulting linked list representing the sum. -->"
   ]
  },
  {
   "cell_type": "markdown",
   "id": "334f9897",
   "metadata": {},
   "source": [
    "## Here's how the function works:\n",
    "\n",
    "1) We create a \"dummy head\" node and a \"current\" node that initially point to the dummy head. The dummy head is useful because it allows us to avoid having to check for a None head node when adding the first two values.\n",
    "\n",
    "2) We initialize the carry variable to 0.\n",
    "\n",
    "3) We loop while either l1, l2, or carry is not None. This ensures that we add all of the corresponding digits in the two linked lists and any leftover carry.\n",
    "\n",
    "4) Inside the loop, we get the values of the current nodes in l1 and l2, or 0 if one or both are None.\n",
    "\n",
    "5) We calculate the sum of the values plus the carry from the previous addition.\n",
    "\n",
    "6) We update the carry variable to the integer division of the sum by 10, which gives us the carry for the next addition.\n",
    "\n",
    "7) We create a new ListNode with the value of the sum modulo 10, which gives us the \"ones\" digit of the sum.\n",
    "\n",
    "8) We set the next node of the current node to the new ListNode, and update the current node to the new ListNode.\n",
    "\n",
    "9) We move l1 and l2 to their next nodes, or None if they are already None.\n",
    "\n",
    "    Once the loop is finished, we return the next node of the dummy head, which is the head of the resulting linked list representing the sum."
   ]
  },
  {
   "cell_type": "code",
   "execution_count": null,
   "id": "da2024dd",
   "metadata": {},
   "outputs": [],
   "source": []
  }
 ],
 "metadata": {
  "kernelspec": {
   "display_name": "Python 3",
   "language": "python",
   "name": "python3"
  },
  "language_info": {
   "codemirror_mode": {
    "name": "ipython",
    "version": 3
   },
   "file_extension": ".py",
   "mimetype": "text/x-python",
   "name": "python",
   "nbconvert_exporter": "python",
   "pygments_lexer": "ipython3",
   "version": "3.8.3"
  }
 },
 "nbformat": 4,
 "nbformat_minor": 5
}
